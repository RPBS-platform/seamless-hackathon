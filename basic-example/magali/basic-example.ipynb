{
 "cells": [
  {
   "cell_type": "markdown",
   "metadata": {},
   "source": [
    "# Basic example"
   ]
  },
  {
   "cell_type": "markdown",
   "metadata": {},
   "source": [
    "### 1. Import Seamless in IPython or Jupyter "
   ]
  },
  {
   "cell_type": "code",
   "execution_count": null,
   "metadata": {},
   "outputs": [],
   "source": [
    "from seamless.highlevel import Context\n",
    "ctx = Context()"
   ]
  },
  {
   "cell_type": "markdown",
   "metadata": {},
   "source": [
    "### 2. Set up a simple Seamless context"
   ]
  },
  {
   "cell_type": "code",
   "execution_count": null,
   "metadata": {},
   "outputs": [],
   "source": [
    "def add(a, b):\n",
    "    return a + b\n",
    "\n",
    "ctx.a = 10          # ctx.a => Seamless cell\n",
    "ctx.b = 20          # ctx.b => Seamless cell\n",
    "ctx.add = add       # ctx.add => Seamless transformer\n",
    "ctx.add.a = ctx.a\n",
    "ctx.add.b = ctx.b\n",
    "ctx.c = ctx.add     # ctx.c => Seamless cell\n",
    "await ctx.computation()\n",
    "ctx.c.value"
   ]
  },
  {
   "cell_type": "code",
   "execution_count": null,
   "metadata": {},
   "outputs": [],
   "source": [
    "ctx.a += 5 \n",
    "await ctx.computation()\n",
    "ctx.c.value"
   ]
  },
  {
   "cell_type": "markdown",
   "metadata": {},
   "source": [
    "### 3. Define schemas and validation rules"
   ]
  },
  {
   "cell_type": "code",
   "execution_count": null,
   "metadata": {},
   "outputs": [],
   "source": [
    "ctx.add.example.a = 0.0  # declares that add.a must be a number\n",
    "ctx.add.example.b = 0.0  \n",
    "\n",
    "def validate(self):\n",
    "    assert self.a < self.b\n",
    "\n",
    "ctx.add.add_validator(validate, name=\"validate\")\n",
    "\n",
    "await ctx.computation()\n",
    "print(ctx.add.exception)\n",
    "# Validation passes => exception is None"
   ]
  },
  {
   "cell_type": "markdown",
   "metadata": {},
   "source": [
    "### 4. Create an API for a Seamless cell"
   ]
  },
  {
   "cell_type": "code",
   "execution_count": null,
   "metadata": {},
   "outputs": [],
   "source": [
    "def report(self): \n",
    "    value = self.unsilk \n",
    "    if value is None: \n",
    "        print(\"Sorry, there is no result\") \n",
    "    else: \n",
    "        print(\"The result is: {}\".format(value))\n",
    "\n",
    "ctx.c.example.report = report\n",
    "await ctx.computation()\n",
    "ctx.c.value.report()"
   ]
  },
  {
   "cell_type": "markdown",
   "metadata": {},
   "source": [
    "### 5. Mount cells to the file system"
   ]
  },
  {
   "cell_type": "code",
   "execution_count": null,
   "metadata": {},
   "outputs": [],
   "source": [
    "ctx.a.celltype = \"plain\"\n",
    "ctx.a.mount(\"a.txt\")\n",
    "ctx.b.celltype = \"plain\"\n",
    "ctx.b.mount(\"b.txt\")\n",
    "ctx.c.celltype = \"plain\"\n",
    "ctx.c.mount(\"c.txt\", mode=\"w\")\n",
    "ctx.add.code.mount(\"code.py\")\n",
    "await ctx.translation()"
   ]
  },
  {
   "cell_type": "markdown",
   "metadata": {},
   "source": [
    "### 6. Control cells from Jupyter"
   ]
  },
  {
   "cell_type": "code",
   "execution_count": null,
   "metadata": {},
   "outputs": [],
   "source": [
    "from ipywidgets import IntSlider, IntText\n",
    "\n",
    "a = IntSlider(min=-10,max=30)\n",
    "b = IntSlider(min=-10,max=30)\n",
    "c = ctx.c.output()\n",
    "ctx.a.traitlet().link(a)\n",
    "ctx.b.traitlet().link(b)\n",
    "display(a)\n",
    "display(b)\n",
    "display(c)"
   ]
  },
  {
   "cell_type": "markdown",
   "metadata": {},
   "source": [
    "### 7. Save the entire state of the context"
   ]
  },
  {
   "cell_type": "code",
   "execution_count": null,
   "metadata": {},
   "outputs": [],
   "source": [
    "# Graph and checksums, as JSON\n",
    "ctx.save_graph(\"basic-example.seamless\")\n",
    "# Checksum-to-buffer cache, as ZIP file\n",
    "ctx.save_zip(\"basic-example.zip\")"
   ]
  },
  {
   "cell_type": "markdown",
   "metadata": {},
   "source": [
    "### 8. In a new notebook / IPython console:"
   ]
  },
  {
   "cell_type": "markdown",
   "metadata": {},
   "source": [
    "```python\n",
    "from seamless.highlevel import load_graph\n",
    "ctx = load_graph(\n",
    "    \"basic-example.seamless\", \n",
    "    zip=\"basic-example.zip\"\n",
    ")\n",
    "await ctx.computation()\n",
    "ctx.c.value\n",
    "```"
   ]
  }
 ],
 "metadata": {
  "kernelspec": {
   "display_name": "Python 3",
   "language": "python",
   "name": "python3"
  },
  "language_info": {
   "codemirror_mode": {
    "name": "ipython",
    "version": 3
   },
   "file_extension": ".py",
   "mimetype": "text/x-python",
   "name": "python",
   "nbconvert_exporter": "python",
   "pygments_lexer": "ipython3",
   "version": "3.7.3"
  }
 },
 "nbformat": 4,
 "nbformat_minor": 2
}
